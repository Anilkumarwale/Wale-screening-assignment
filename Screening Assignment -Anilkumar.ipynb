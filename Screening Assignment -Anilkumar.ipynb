{
 "cells": [
  {
   "cell_type": "markdown",
   "id": "983b1ff5",
   "metadata": {},
   "source": [
    "### 1.Create a function in python to read the text file and replace specific content of the file."
   ]
  },
  {
   "cell_type": "code",
   "execution_count": 15,
   "id": "35a7bbb5",
   "metadata": {},
   "outputs": [
    {
     "name": "stdout",
     "output_type": "stream",
     "text": [
      "old filedata: This is a placement assignment\n",
      "replaced filedata: This is a screening assignment\n"
     ]
    }
   ],
   "source": [
    "with open('example.txt','w') as f:\n",
    "    filedata = f.write('This is a placement assignment')\n",
    "with open('example.txt','r') as f:\n",
    "    filedata = f.read()\n",
    "    filedata = filedata.replace('placement', 'screening')\n",
    "with open('example.txt','w') as f:\n",
    "    f.write(filedata)\n",
    "    \n",
    "\n",
    "def rewrite_file(filename, filedata, old_word, new_word):\n",
    "    \n",
    "    with open(filename,'w') as f:\n",
    "        f.write(filedata)\n",
    "        \n",
    "    with open(filename,'r') as f:\n",
    "        filedata = f.read()\n",
    "        print('old filedata:',filedata)\n",
    "        filedata = filedata.replace(old_word, new_word)\n",
    "        \n",
    "    with open('replaced_'+filename,'w') as f:\n",
    "        f.write(filedata)\n",
    "        \n",
    "    with open('replaced_'+filename,'r') as f:\n",
    "        filedata = f.read()\n",
    "        print('replaced filedata:',filedata)\n",
    "        \n",
    "filename = 'example.txt'\n",
    "filedata = 'This is a placement assignment'\n",
    "old_word = 'placement'\n",
    "new_word = 'screening'\n",
    "\n",
    "rewrite_file(filename,filedata,old_word,new_word)"
   ]
  },
  {
   "cell_type": "markdown",
   "id": "de8550bc",
   "metadata": {},
   "source": [
    "### 2.Demonstrate use of abstract class, multiple inheritance and decorator in python using examples."
   ]
  },
  {
   "cell_type": "code",
   "execution_count": 16,
   "id": "25f2a3fa",
   "metadata": {},
   "outputs": [
    {
     "name": "stdout",
     "output_type": "stream",
     "text": [
      "I can walk and run\n",
      "I can crawl\n"
     ]
    }
   ],
   "source": [
    "# Abstract class\n",
    "\n",
    "from abc import ABC, abstractmethod\n",
    "\n",
    "class Animal(ABC):\n",
    "    @abstractmethod\n",
    "    def move(self):\n",
    "        pass\n",
    "    \n",
    "class Human(Animal):\n",
    "    def move(self):\n",
    "        print(\"I can walk and run\")\n",
    "\n",
    "class Snake(Animal):\n",
    "    def move(self):\n",
    "        print(\"I can crawl\")\n",
    "        \n",
    "Animal_1 = Human()\n",
    "Animal_2 = Snake()\n",
    "Animal_1.move()\n",
    "Animal_2.move()"
   ]
  },
  {
   "cell_type": "code",
   "execution_count": 14,
   "id": "ebb5f4fd",
   "metadata": {},
   "outputs": [
    {
     "name": "stdout",
     "output_type": "stream",
     "text": [
      "25\n",
      "Anil\n",
      "HipHop\n"
     ]
    }
   ],
   "source": [
    "# Multiple inheritance\n",
    "\n",
    "class Human:\n",
    "    def __init__(self,age,name):\n",
    "        self.age = age\n",
    "        self.name = name\n",
    "        \n",
    "class Dancer:\n",
    "    def __init__(self,style):\n",
    "        self.style = style\n",
    "        \n",
    "class child(Human, Dancer):\n",
    "    def __init__(self,age,name,style):\n",
    "        Human.__init__(self,age,name)\n",
    "        Dancer.__init__(self,style)\n",
    "\n",
    "\n",
    "Anil = child(25,'Anil','HipHop')\n",
    "print(Anil.age)\n",
    "print(Anil.name)\n",
    "print(Anil.style)"
   ]
  },
  {
   "cell_type": "code",
   "execution_count": 17,
   "id": "ccb5d689",
   "metadata": {},
   "outputs": [
    {
     "name": "stdout",
     "output_type": "stream",
     "text": [
      "225\n"
     ]
    }
   ],
   "source": [
    "# Decorator\n",
    "\n",
    "def num_square(func):\n",
    "    def inner(num):\n",
    "        num = func(num)\n",
    "        return num*num\n",
    "    return inner\n",
    "\n",
    "def add10(func):\n",
    "    def inner(num):\n",
    "        num = func(num)\n",
    "        return num+10\n",
    "    return inner\n",
    "\n",
    "@num_square\n",
    "@add10\n",
    "def num_add10_square(x):\n",
    "    return x\n",
    "\n",
    "print(num_add10_square(5))"
   ]
  },
  {
   "cell_type": "code",
   "execution_count": null,
   "id": "861a0154",
   "metadata": {},
   "outputs": [],
   "source": []
  }
 ],
 "metadata": {
  "kernelspec": {
   "display_name": "Python 3 (ipykernel)",
   "language": "python",
   "name": "python3"
  },
  "language_info": {
   "codemirror_mode": {
    "name": "ipython",
    "version": 3
   },
   "file_extension": ".py",
   "mimetype": "text/x-python",
   "name": "python",
   "nbconvert_exporter": "python",
   "pygments_lexer": "ipython3",
   "version": "3.9.7"
  }
 },
 "nbformat": 4,
 "nbformat_minor": 5
}
